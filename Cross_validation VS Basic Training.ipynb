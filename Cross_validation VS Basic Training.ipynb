{
 "cells": [
  {
   "cell_type": "code",
   "execution_count": 2,
   "id": "d608b76c",
   "metadata": {},
   "outputs": [],
   "source": [
    "import pandas as pd\n",
    "import numpy as np\n",
    "\n",
    "from sklearn.model_selection import cross_val_score\n",
    "import matplotlib.pyplot as plt"
   ]
  },
  {
   "cell_type": "code",
   "execution_count": 3,
   "id": "9620423a",
   "metadata": {},
   "outputs": [],
   "source": [
    "house = pd.read_csv('HousePriceExample.csv')"
   ]
  },
  {
   "cell_type": "code",
   "execution_count": 4,
   "id": "226c90cf",
   "metadata": {},
   "outputs": [
    {
     "data": {
      "text/html": [
       "<div>\n",
       "<style scoped>\n",
       "    .dataframe tbody tr th:only-of-type {\n",
       "        vertical-align: middle;\n",
       "    }\n",
       "\n",
       "    .dataframe tbody tr th {\n",
       "        vertical-align: top;\n",
       "    }\n",
       "\n",
       "    .dataframe thead th {\n",
       "        text-align: right;\n",
       "    }\n",
       "</style>\n",
       "<table border=\"1\" class=\"dataframe\">\n",
       "  <thead>\n",
       "    <tr style=\"text-align: right;\">\n",
       "      <th></th>\n",
       "      <th>Size</th>\n",
       "      <th>Rooms</th>\n",
       "      <th>Price</th>\n",
       "      <th>Unnamed: 3</th>\n",
       "    </tr>\n",
       "  </thead>\n",
       "  <tbody>\n",
       "    <tr>\n",
       "      <th>0</th>\n",
       "      <td>100</td>\n",
       "      <td>2</td>\n",
       "      <td>137.556462</td>\n",
       "      <td>NaN</td>\n",
       "    </tr>\n",
       "    <tr>\n",
       "      <th>1</th>\n",
       "      <td>110</td>\n",
       "      <td>2</td>\n",
       "      <td>147.266947</td>\n",
       "      <td>NaN</td>\n",
       "    </tr>\n",
       "    <tr>\n",
       "      <th>2</th>\n",
       "      <td>210</td>\n",
       "      <td>3</td>\n",
       "      <td>277.823882</td>\n",
       "      <td>NaN</td>\n",
       "    </tr>\n",
       "    <tr>\n",
       "      <th>3</th>\n",
       "      <td>150</td>\n",
       "      <td>2</td>\n",
       "      <td>201.293308</td>\n",
       "      <td>NaN</td>\n",
       "    </tr>\n",
       "    <tr>\n",
       "      <th>4</th>\n",
       "      <td>170</td>\n",
       "      <td>3</td>\n",
       "      <td>228.432090</td>\n",
       "      <td>NaN</td>\n",
       "    </tr>\n",
       "    <tr>\n",
       "      <th>5</th>\n",
       "      <td>101</td>\n",
       "      <td>2</td>\n",
       "      <td>136.208504</td>\n",
       "      <td>NaN</td>\n",
       "    </tr>\n",
       "    <tr>\n",
       "      <th>6</th>\n",
       "      <td>120</td>\n",
       "      <td>2</td>\n",
       "      <td>160.248469</td>\n",
       "      <td>NaN</td>\n",
       "    </tr>\n",
       "    <tr>\n",
       "      <th>7</th>\n",
       "      <td>160</td>\n",
       "      <td>3</td>\n",
       "      <td>216.177111</td>\n",
       "      <td>NaN</td>\n",
       "    </tr>\n",
       "    <tr>\n",
       "      <th>8</th>\n",
       "      <td>180</td>\n",
       "      <td>3</td>\n",
       "      <td>241.515656</td>\n",
       "      <td>NaN</td>\n",
       "    </tr>\n",
       "    <tr>\n",
       "      <th>9</th>\n",
       "      <td>250</td>\n",
       "      <td>3</td>\n",
       "      <td>331.809213</td>\n",
       "      <td>NaN</td>\n",
       "    </tr>\n",
       "    <tr>\n",
       "      <th>10</th>\n",
       "      <td>200</td>\n",
       "      <td>2</td>\n",
       "      <td>264.594759</td>\n",
       "      <td>NaN</td>\n",
       "    </tr>\n",
       "    <tr>\n",
       "      <th>11</th>\n",
       "      <td>160</td>\n",
       "      <td>2</td>\n",
       "      <td>211.737976</td>\n",
       "      <td>NaN</td>\n",
       "    </tr>\n",
       "    <tr>\n",
       "      <th>12</th>\n",
       "      <td>150</td>\n",
       "      <td>2</td>\n",
       "      <td>201.284069</td>\n",
       "      <td>NaN</td>\n",
       "    </tr>\n",
       "    <tr>\n",
       "      <th>13</th>\n",
       "      <td>175</td>\n",
       "      <td>2</td>\n",
       "      <td>234.548040</td>\n",
       "      <td>NaN</td>\n",
       "    </tr>\n",
       "    <tr>\n",
       "      <th>14</th>\n",
       "      <td>205</td>\n",
       "      <td>3</td>\n",
       "      <td>274.085357</td>\n",
       "      <td>NaN</td>\n",
       "    </tr>\n",
       "    <tr>\n",
       "      <th>15</th>\n",
       "      <td>95</td>\n",
       "      <td>1</td>\n",
       "      <td>128.432274</td>\n",
       "      <td>NaN</td>\n",
       "    </tr>\n",
       "    <tr>\n",
       "      <th>16</th>\n",
       "      <td>145</td>\n",
       "      <td>2</td>\n",
       "      <td>193.969353</td>\n",
       "      <td>NaN</td>\n",
       "    </tr>\n",
       "    <tr>\n",
       "      <th>17</th>\n",
       "      <td>165</td>\n",
       "      <td>3</td>\n",
       "      <td>222.637396</td>\n",
       "      <td>NaN</td>\n",
       "    </tr>\n",
       "    <tr>\n",
       "      <th>18</th>\n",
       "      <td>133</td>\n",
       "      <td>2</td>\n",
       "      <td>180.015644</td>\n",
       "      <td>NaN</td>\n",
       "    </tr>\n",
       "    <tr>\n",
       "      <th>19</th>\n",
       "      <td>206</td>\n",
       "      <td>3</td>\n",
       "      <td>275.600622</td>\n",
       "      <td>NaN</td>\n",
       "    </tr>\n",
       "  </tbody>\n",
       "</table>\n",
       "</div>"
      ],
      "text/plain": [
       "    Size  Rooms      Price   Unnamed: 3\n",
       "0    100      2  137.556462         NaN\n",
       "1    110      2  147.266947         NaN\n",
       "2    210      3  277.823882         NaN\n",
       "3    150      2  201.293308         NaN\n",
       "4    170      3  228.432090         NaN\n",
       "5    101      2  136.208504         NaN\n",
       "6    120      2  160.248469         NaN\n",
       "7    160      3  216.177111         NaN\n",
       "8    180      3  241.515656         NaN\n",
       "9    250      3  331.809213         NaN\n",
       "10   200      2  264.594759         NaN\n",
       "11   160      2  211.737976         NaN\n",
       "12   150      2  201.284069         NaN\n",
       "13   175      2  234.548040         NaN\n",
       "14   205      3  274.085357         NaN\n",
       "15    95      1  128.432274         NaN\n",
       "16   145      2  193.969353         NaN\n",
       "17   165      3  222.637396         NaN\n",
       "18   133      2  180.015644         NaN\n",
       "19   206      3  275.600622         NaN"
      ]
     },
     "execution_count": 4,
     "metadata": {},
     "output_type": "execute_result"
    }
   ],
   "source": [
    "house\n"
   ]
  },
  {
   "cell_type": "code",
   "execution_count": 5,
   "id": "025ba709",
   "metadata": {},
   "outputs": [],
   "source": [
    "house.drop('Unnamed: 3', axis = 1, inplace = True)"
   ]
  },
  {
   "cell_type": "code",
   "execution_count": 12,
   "id": "82702b3b",
   "metadata": {},
   "outputs": [
    {
     "data": {
      "text/html": [
       "<div>\n",
       "<style scoped>\n",
       "    .dataframe tbody tr th:only-of-type {\n",
       "        vertical-align: middle;\n",
       "    }\n",
       "\n",
       "    .dataframe tbody tr th {\n",
       "        vertical-align: top;\n",
       "    }\n",
       "\n",
       "    .dataframe thead th {\n",
       "        text-align: right;\n",
       "    }\n",
       "</style>\n",
       "<table border=\"1\" class=\"dataframe\">\n",
       "  <thead>\n",
       "    <tr style=\"text-align: right;\">\n",
       "      <th></th>\n",
       "      <th>Size</th>\n",
       "      <th>Rooms</th>\n",
       "      <th>Price</th>\n",
       "    </tr>\n",
       "  </thead>\n",
       "  <tbody>\n",
       "    <tr>\n",
       "      <th>0</th>\n",
       "      <td>100</td>\n",
       "      <td>2</td>\n",
       "      <td>137.556462</td>\n",
       "    </tr>\n",
       "    <tr>\n",
       "      <th>1</th>\n",
       "      <td>110</td>\n",
       "      <td>2</td>\n",
       "      <td>147.266947</td>\n",
       "    </tr>\n",
       "    <tr>\n",
       "      <th>2</th>\n",
       "      <td>210</td>\n",
       "      <td>3</td>\n",
       "      <td>277.823882</td>\n",
       "    </tr>\n",
       "    <tr>\n",
       "      <th>3</th>\n",
       "      <td>150</td>\n",
       "      <td>2</td>\n",
       "      <td>201.293308</td>\n",
       "    </tr>\n",
       "    <tr>\n",
       "      <th>4</th>\n",
       "      <td>170</td>\n",
       "      <td>3</td>\n",
       "      <td>228.432090</td>\n",
       "    </tr>\n",
       "    <tr>\n",
       "      <th>5</th>\n",
       "      <td>101</td>\n",
       "      <td>2</td>\n",
       "      <td>136.208504</td>\n",
       "    </tr>\n",
       "    <tr>\n",
       "      <th>6</th>\n",
       "      <td>120</td>\n",
       "      <td>2</td>\n",
       "      <td>160.248469</td>\n",
       "    </tr>\n",
       "    <tr>\n",
       "      <th>7</th>\n",
       "      <td>160</td>\n",
       "      <td>3</td>\n",
       "      <td>216.177111</td>\n",
       "    </tr>\n",
       "    <tr>\n",
       "      <th>8</th>\n",
       "      <td>180</td>\n",
       "      <td>3</td>\n",
       "      <td>241.515656</td>\n",
       "    </tr>\n",
       "    <tr>\n",
       "      <th>9</th>\n",
       "      <td>250</td>\n",
       "      <td>3</td>\n",
       "      <td>331.809213</td>\n",
       "    </tr>\n",
       "    <tr>\n",
       "      <th>10</th>\n",
       "      <td>200</td>\n",
       "      <td>2</td>\n",
       "      <td>264.594759</td>\n",
       "    </tr>\n",
       "    <tr>\n",
       "      <th>11</th>\n",
       "      <td>160</td>\n",
       "      <td>2</td>\n",
       "      <td>211.737976</td>\n",
       "    </tr>\n",
       "    <tr>\n",
       "      <th>12</th>\n",
       "      <td>150</td>\n",
       "      <td>2</td>\n",
       "      <td>201.284069</td>\n",
       "    </tr>\n",
       "    <tr>\n",
       "      <th>13</th>\n",
       "      <td>175</td>\n",
       "      <td>2</td>\n",
       "      <td>234.548040</td>\n",
       "    </tr>\n",
       "    <tr>\n",
       "      <th>14</th>\n",
       "      <td>205</td>\n",
       "      <td>3</td>\n",
       "      <td>274.085357</td>\n",
       "    </tr>\n",
       "    <tr>\n",
       "      <th>15</th>\n",
       "      <td>95</td>\n",
       "      <td>1</td>\n",
       "      <td>128.432274</td>\n",
       "    </tr>\n",
       "    <tr>\n",
       "      <th>16</th>\n",
       "      <td>145</td>\n",
       "      <td>2</td>\n",
       "      <td>193.969353</td>\n",
       "    </tr>\n",
       "    <tr>\n",
       "      <th>17</th>\n",
       "      <td>165</td>\n",
       "      <td>3</td>\n",
       "      <td>222.637396</td>\n",
       "    </tr>\n",
       "    <tr>\n",
       "      <th>18</th>\n",
       "      <td>133</td>\n",
       "      <td>2</td>\n",
       "      <td>180.015644</td>\n",
       "    </tr>\n",
       "    <tr>\n",
       "      <th>19</th>\n",
       "      <td>206</td>\n",
       "      <td>3</td>\n",
       "      <td>275.600622</td>\n",
       "    </tr>\n",
       "  </tbody>\n",
       "</table>\n",
       "</div>"
      ],
      "text/plain": [
       "    Size  Rooms      Price \n",
       "0    100      2  137.556462\n",
       "1    110      2  147.266947\n",
       "2    210      3  277.823882\n",
       "3    150      2  201.293308\n",
       "4    170      3  228.432090\n",
       "5    101      2  136.208504\n",
       "6    120      2  160.248469\n",
       "7    160      3  216.177111\n",
       "8    180      3  241.515656\n",
       "9    250      3  331.809213\n",
       "10   200      2  264.594759\n",
       "11   160      2  211.737976\n",
       "12   150      2  201.284069\n",
       "13   175      2  234.548040\n",
       "14   205      3  274.085357\n",
       "15    95      1  128.432274\n",
       "16   145      2  193.969353\n",
       "17   165      3  222.637396\n",
       "18   133      2  180.015644\n",
       "19   206      3  275.600622"
      ]
     },
     "execution_count": 12,
     "metadata": {},
     "output_type": "execute_result"
    }
   ],
   "source": [
    "house"
   ]
  },
  {
   "cell_type": "code",
   "execution_count": 6,
   "id": "8ba1309c",
   "metadata": {},
   "outputs": [
    {
     "data": {
      "text/html": [
       "<div>\n",
       "<style scoped>\n",
       "    .dataframe tbody tr th:only-of-type {\n",
       "        vertical-align: middle;\n",
       "    }\n",
       "\n",
       "    .dataframe tbody tr th {\n",
       "        vertical-align: top;\n",
       "    }\n",
       "\n",
       "    .dataframe thead th {\n",
       "        text-align: right;\n",
       "    }\n",
       "</style>\n",
       "<table border=\"1\" class=\"dataframe\">\n",
       "  <thead>\n",
       "    <tr style=\"text-align: right;\">\n",
       "      <th></th>\n",
       "      <th>Size</th>\n",
       "      <th>Rooms</th>\n",
       "      <th>Price</th>\n",
       "    </tr>\n",
       "  </thead>\n",
       "  <tbody>\n",
       "    <tr>\n",
       "      <th>count</th>\n",
       "      <td>20.000000</td>\n",
       "      <td>20.000000</td>\n",
       "      <td>20.000000</td>\n",
       "    </tr>\n",
       "    <tr>\n",
       "      <th>mean</th>\n",
       "      <td>159.250000</td>\n",
       "      <td>2.350000</td>\n",
       "      <td>213.261857</td>\n",
       "    </tr>\n",
       "    <tr>\n",
       "      <th>std</th>\n",
       "      <td>42.077466</td>\n",
       "      <td>0.587143</td>\n",
       "      <td>55.163494</td>\n",
       "    </tr>\n",
       "    <tr>\n",
       "      <th>min</th>\n",
       "      <td>95.000000</td>\n",
       "      <td>1.000000</td>\n",
       "      <td>128.432274</td>\n",
       "    </tr>\n",
       "    <tr>\n",
       "      <th>25%</th>\n",
       "      <td>129.750000</td>\n",
       "      <td>2.000000</td>\n",
       "      <td>175.073851</td>\n",
       "    </tr>\n",
       "    <tr>\n",
       "      <th>50%</th>\n",
       "      <td>160.000000</td>\n",
       "      <td>2.000000</td>\n",
       "      <td>213.957543</td>\n",
       "    </tr>\n",
       "    <tr>\n",
       "      <th>75%</th>\n",
       "      <td>185.000000</td>\n",
       "      <td>3.000000</td>\n",
       "      <td>247.285431</td>\n",
       "    </tr>\n",
       "    <tr>\n",
       "      <th>max</th>\n",
       "      <td>250.000000</td>\n",
       "      <td>3.000000</td>\n",
       "      <td>331.809213</td>\n",
       "    </tr>\n",
       "  </tbody>\n",
       "</table>\n",
       "</div>"
      ],
      "text/plain": [
       "             Size      Rooms      Price \n",
       "count   20.000000  20.000000   20.000000\n",
       "mean   159.250000   2.350000  213.261857\n",
       "std     42.077466   0.587143   55.163494\n",
       "min     95.000000   1.000000  128.432274\n",
       "25%    129.750000   2.000000  175.073851\n",
       "50%    160.000000   2.000000  213.957543\n",
       "75%    185.000000   3.000000  247.285431\n",
       "max    250.000000   3.000000  331.809213"
      ]
     },
     "execution_count": 6,
     "metadata": {},
     "output_type": "execute_result"
    }
   ],
   "source": [
    "house.describe()"
   ]
  },
  {
   "cell_type": "code",
   "execution_count": 7,
   "id": "0ea7e1b9",
   "metadata": {},
   "outputs": [],
   "source": [
    "#import three models to compare\n",
    "from sklearn.linear_model import LinearRegression\n",
    "from sklearn.neural_network import MLPRegressor\n",
    "from sklearn.ensemble import RandomForestRegressor\n",
    "#import training and testing model\n",
    "from sklearn.model_selection import train_test_split"
   ]
  },
  {
   "cell_type": "code",
   "execution_count": 8,
   "id": "19734524",
   "metadata": {},
   "outputs": [],
   "source": [
    "modelLR= LinearRegression() #default hyperparameters\n",
    "modelNN= MLPRegressor()\n",
    "modelRF= RandomForestRegressor()"
   ]
  },
  {
   "cell_type": "code",
   "execution_count": 9,
   "id": "c90dc1cc",
   "metadata": {},
   "outputs": [],
   "source": [
    "#splitting the dataset into input and output\n",
    "#pandas.iloc[rows, columns]\n",
    "X= house.iloc[:, 0:2]\n",
    "Y = house.iloc[:, 2:3]\n",
    "Y=np.array(Y)"
   ]
  },
  {
   "cell_type": "code",
   "execution_count": 10,
   "id": "eff31aa9",
   "metadata": {},
   "outputs": [
    {
     "data": {
      "text/plain": [
       "array([[137.5564624],\n",
       "       [147.2669473],\n",
       "       [277.8238816],\n",
       "       [201.2933082],\n",
       "       [228.4320898],\n",
       "       [136.2085042],\n",
       "       [160.2484695],\n",
       "       [216.1771107],\n",
       "       [241.5156558],\n",
       "       [331.8092128],\n",
       "       [264.5947585],\n",
       "       [211.7379762],\n",
       "       [201.2840695],\n",
       "       [234.54804  ],\n",
       "       [274.0853575],\n",
       "       [128.4322742],\n",
       "       [193.9693532],\n",
       "       [222.6373959],\n",
       "       [180.0156443],\n",
       "       [275.600622 ]])"
      ]
     },
     "execution_count": 10,
     "metadata": {},
     "output_type": "execute_result"
    }
   ],
   "source": [
    "Y"
   ]
  },
  {
   "cell_type": "code",
   "execution_count": 41,
   "id": "a4a95dea",
   "metadata": {},
   "outputs": [],
   "source": [
    "#Split the dataset into training and testing\n",
    "Xtrain, Xtest, Ytrain, Ytest = train_test_split(X, Y, test_size=0.2)#YOU CAN INCLUDE RANDOM STATE"
   ]
  },
  {
   "cell_type": "code",
   "execution_count": 29,
   "id": "ee122a25",
   "metadata": {},
   "outputs": [
    {
     "data": {
      "text/html": [
       "<div>\n",
       "<style scoped>\n",
       "    .dataframe tbody tr th:only-of-type {\n",
       "        vertical-align: middle;\n",
       "    }\n",
       "\n",
       "    .dataframe tbody tr th {\n",
       "        vertical-align: top;\n",
       "    }\n",
       "\n",
       "    .dataframe thead th {\n",
       "        text-align: right;\n",
       "    }\n",
       "</style>\n",
       "<table border=\"1\" class=\"dataframe\">\n",
       "  <thead>\n",
       "    <tr style=\"text-align: right;\">\n",
       "      <th></th>\n",
       "      <th>Size</th>\n",
       "      <th>Rooms</th>\n",
       "    </tr>\n",
       "  </thead>\n",
       "  <tbody>\n",
       "    <tr>\n",
       "      <th>2</th>\n",
       "      <td>210</td>\n",
       "      <td>3</td>\n",
       "    </tr>\n",
       "    <tr>\n",
       "      <th>14</th>\n",
       "      <td>205</td>\n",
       "      <td>3</td>\n",
       "    </tr>\n",
       "    <tr>\n",
       "      <th>4</th>\n",
       "      <td>170</td>\n",
       "      <td>3</td>\n",
       "    </tr>\n",
       "    <tr>\n",
       "      <th>17</th>\n",
       "      <td>165</td>\n",
       "      <td>3</td>\n",
       "    </tr>\n",
       "    <tr>\n",
       "      <th>7</th>\n",
       "      <td>160</td>\n",
       "      <td>3</td>\n",
       "    </tr>\n",
       "    <tr>\n",
       "      <th>1</th>\n",
       "      <td>110</td>\n",
       "      <td>2</td>\n",
       "    </tr>\n",
       "    <tr>\n",
       "      <th>13</th>\n",
       "      <td>175</td>\n",
       "      <td>2</td>\n",
       "    </tr>\n",
       "    <tr>\n",
       "      <th>0</th>\n",
       "      <td>100</td>\n",
       "      <td>2</td>\n",
       "    </tr>\n",
       "    <tr>\n",
       "      <th>19</th>\n",
       "      <td>206</td>\n",
       "      <td>3</td>\n",
       "    </tr>\n",
       "    <tr>\n",
       "      <th>18</th>\n",
       "      <td>133</td>\n",
       "      <td>2</td>\n",
       "    </tr>\n",
       "    <tr>\n",
       "      <th>9</th>\n",
       "      <td>250</td>\n",
       "      <td>3</td>\n",
       "    </tr>\n",
       "    <tr>\n",
       "      <th>15</th>\n",
       "      <td>95</td>\n",
       "      <td>1</td>\n",
       "    </tr>\n",
       "    <tr>\n",
       "      <th>8</th>\n",
       "      <td>180</td>\n",
       "      <td>3</td>\n",
       "    </tr>\n",
       "    <tr>\n",
       "      <th>12</th>\n",
       "      <td>150</td>\n",
       "      <td>2</td>\n",
       "    </tr>\n",
       "    <tr>\n",
       "      <th>11</th>\n",
       "      <td>160</td>\n",
       "      <td>2</td>\n",
       "    </tr>\n",
       "    <tr>\n",
       "      <th>5</th>\n",
       "      <td>101</td>\n",
       "      <td>2</td>\n",
       "    </tr>\n",
       "  </tbody>\n",
       "</table>\n",
       "</div>"
      ],
      "text/plain": [
       "    Size  Rooms\n",
       "2    210      3\n",
       "14   205      3\n",
       "4    170      3\n",
       "17   165      3\n",
       "7    160      3\n",
       "1    110      2\n",
       "13   175      2\n",
       "0    100      2\n",
       "19   206      3\n",
       "18   133      2\n",
       "9    250      3\n",
       "15    95      1\n",
       "8    180      3\n",
       "12   150      2\n",
       "11   160      2\n",
       "5    101      2"
      ]
     },
     "execution_count": 29,
     "metadata": {},
     "output_type": "execute_result"
    }
   ],
   "source": [
    "Xtrain"
   ]
  },
  {
   "cell_type": "code",
   "execution_count": 42,
   "id": "db317781",
   "metadata": {},
   "outputs": [
    {
     "data": {
      "text/plain": [
       "array([[137.5564624],\n",
       "       [180.0156443],\n",
       "       [193.9693532],\n",
       "       [275.600622 ],\n",
       "       [274.0853575],\n",
       "       [201.2840695],\n",
       "       [211.7379762],\n",
       "       [228.4320898],\n",
       "       [160.2484695],\n",
       "       [331.8092128],\n",
       "       [264.5947585],\n",
       "       [277.8238816],\n",
       "       [136.2085042],\n",
       "       [222.6373959],\n",
       "       [128.4322742],\n",
       "       [234.54804  ]])"
      ]
     },
     "execution_count": 42,
     "metadata": {},
     "output_type": "execute_result"
    }
   ],
   "source": [
    "Ytrain"
   ]
  },
  {
   "cell_type": "code",
   "execution_count": 43,
   "id": "ba37feba",
   "metadata": {},
   "outputs": [
    {
     "name": "stderr",
     "output_type": "stream",
     "text": [
      "C:\\Users\\AYT-BRAIN\\anaconda3\\lib\\site-packages\\sklearn\\neural_network\\_multilayer_perceptron.py:1599: DataConversionWarning: A column-vector y was passed when a 1d array was expected. Please change the shape of y to (n_samples, ), for example using ravel().\n",
      "  y = column_or_1d(y, warn=True)\n",
      "C:\\Users\\AYT-BRAIN\\AppData\\Local\\Temp\\ipykernel_7644\\1877719828.py:4: DataConversionWarning: A column-vector y was passed when a 1d array was expected. Please change the shape of y to (n_samples,), for example using ravel().\n",
      "  modelRF.fit(Xtrain, Ytrain)\n"
     ]
    },
    {
     "data": {
      "text/plain": [
       "RandomForestRegressor()"
      ]
     },
     "execution_count": 43,
     "metadata": {},
     "output_type": "execute_result"
    }
   ],
   "source": [
    "#trainning the models\n",
    "modelLR.fit(Xtrain, Ytrain)\n",
    "modelNN.fit(Xtrain, Ytrain)\n",
    "modelRF.fit(Xtrain, Ytrain)\n",
    "#Improving needs to use hyper-parameters\n",
    "#Cross-validation"
   ]
  },
  {
   "cell_type": "code",
   "execution_count": 44,
   "id": "6364e1e8",
   "metadata": {},
   "outputs": [
    {
     "name": "stdout",
     "output_type": "stream",
     "text": [
      "0.9990702252640634\n",
      "0.9995885458185638\n",
      "0.9643762694550025\n"
     ]
    }
   ],
   "source": [
    "print(modelLR.score(Xtest, Ytest))\n",
    "print(modelNN.score(Xtest, Ytest))\n",
    "print(modelRF.score(Xtest, Ytest))"
   ]
  },
  {
   "cell_type": "code",
   "execution_count": 45,
   "id": "7618c36d",
   "metadata": {},
   "outputs": [],
   "source": [
    "#importing metrics to compare the accurancy of the three models\n",
    "from sklearn.metrics import r2_score, mean_squared_error, mean_absolute_error\n",
    "\n",
    "LRprediction = modelLR.predict(Xtest)\n",
    "NNprediction = modelNN.predict(Xtest)\n",
    "RFprediction = modelRF.predict(Xtest)\n"
   ]
  },
  {
   "cell_type": "code",
   "execution_count": 46,
   "id": "bb46a896",
   "metadata": {},
   "outputs": [
    {
     "name": "stdout",
     "output_type": "stream",
     "text": [
      "1.1059486874914262\n",
      "0.4894166235478823\n",
      "42.37372399681735\n"
     ]
    }
   ],
   "source": [
    "print(mean_squared_error(LRprediction, Ytest))\n",
    "print(mean_squared_error(NNprediction, Ytest))\n",
    "print(mean_squared_error(RFprediction, Ytest))\n"
   ]
  },
  {
   "cell_type": "code",
   "execution_count": 47,
   "id": "56026f43",
   "metadata": {},
   "outputs": [
    {
     "name": "stdout",
     "output_type": "stream",
     "text": [
      "0.8633047984635738\n",
      "0.5933383614113055\n",
      "4.817205560499993\n"
     ]
    }
   ],
   "source": [
    "print(mean_absolute_error(LRprediction, Ytest))\n",
    "print(mean_absolute_error(NNprediction, Ytest))\n",
    "print(mean_absolute_error(RFprediction, Ytest))\n"
   ]
  },
  {
   "cell_type": "code",
   "execution_count": 48,
   "id": "e847cd2f",
   "metadata": {},
   "outputs": [
    {
     "name": "stdout",
     "output_type": "stream",
     "text": [
      "0.9990207000748849\n",
      "0.9995792319074983\n",
      "0.9642209678330129\n"
     ]
    }
   ],
   "source": [
    "print(r2_score(LRprediction, Ytest))\n",
    "print(r2_score(NNprediction, Ytest))\n",
    "print(r2_score(RFprediction, Ytest))\n"
   ]
  },
  {
   "cell_type": "code",
   "execution_count": 49,
   "id": "82c71aa2",
   "metadata": {},
   "outputs": [
    {
     "name": "stdout",
     "output_type": "stream",
     "text": [
      "MSE of LR K-fold cv: 1.6839569118914859\n",
      "MSE of NN K-fold cv: 4.120002428074962\n",
      "MSE of RF K-fold cv: 182.38069203739252\n"
     ]
    }
   ],
   "source": [
    "#K-FOLD VALIDATION\n",
    "print(\"MSE of LR K-fold cv:\", -cross_val_score(modelLR, X, Y.ravel(),cv = 10,scoring=\"neg_mean_squared_error\").mean())\n",
    "print(\"MSE of NN K-fold cv:\", -cross_val_score(modelNN, X, Y.ravel(),cv = 10,scoring=\"neg_mean_squared_error\").mean())\n",
    "print(\"MSE of RF K-fold cv:\", -cross_val_score(modelRF, X, Y.ravel(),cv = 10,scoring=\"neg_mean_squared_error\").mean())"
   ]
  },
  {
   "cell_type": "code",
   "execution_count": 56,
   "id": "f7e55bc6",
   "metadata": {},
   "outputs": [
    {
     "data": {
      "text/plain": [
       "<matplotlib.legend.Legend at 0x1fc2ea02940>"
      ]
     },
     "execution_count": 56,
     "metadata": {},
     "output_type": "execute_result"
    },
    {
     "data": {
      "image/png": "[encoded data removed]",
      "text/plain": [
       "<Figure size 432x288 with 1 Axes>"
      ]
     },
     "metadata": {
      "needs_background": "light"
     },
     "output_type": "display_data"
    }
   ],
   "source": [
    "LRTT=[]\n",
    "NNTT=[]\n",
    "RFTT=[]\n",
    "\n",
    "for i in range(10):\n",
    "    Xtrain, Xtest, Ytrain, Ytest = train_test_split(X, Y.ravel(), test_size = 0.2)\n",
    "    \n",
    "    modelLR.fit(Xtrain, Ytrain)\n",
    "    modelNN.fit(Xtrain, Ytrain)\n",
    "    modelRF.fit(Xtrain, Ytrain)\n",
    "    \n",
    "    LRpredi = modelLR.predict(Xtest)\n",
    "    NNpredi = modelNN.predict(Xtest)\n",
    "    RFpredi = modelRF.predict(Xtest)\n",
    "    \n",
    "    LRTT.append(mean_squared_error(LRpredi, Ytest))\n",
    "    NNTT.append(mean_squared_error(NNpredi, Ytest))\n",
    "    RFTT.append(mean_squared_error(RFpredi, Ytest))\n",
    "\n",
    "    \n",
    "plt.plot(LRTT, '-ro', label = 'LR')\n",
    "plt.plot(NNTT, '-b', label = 'LR')\n",
    "#plt.plot(RFTT, '-k+', label = 'LR')\n",
    "plt.legend(loc=\"best\")"
   ]
  },
  {
   "cell_type": "code",
   "execution_count": 58,
   "id": "20d5bb4f",
   "metadata": {},
   "outputs": [
    {
     "name": "stderr",
     "output_type": "stream",
     "text": [
      "C:\\Users\\AYT-BRAIN\\anaconda3\\lib\\site-packages\\sklearn\\neural_network\\_multilayer_perceptron.py:692: ConvergenceWarning: Stochastic Optimizer: Maximum iterations (200) reached and the optimization hasn't converged yet.\n",
      "  warnings.warn(\n",
      "C:\\Users\\AYT-BRAIN\\anaconda3\\lib\\site-packages\\sklearn\\neural_network\\_multilayer_perceptron.py:692: ConvergenceWarning: Stochastic Optimizer: Maximum iterations (200) reached and the optimization hasn't converged yet.\n",
      "  warnings.warn(\n",
      "C:\\Users\\AYT-BRAIN\\anaconda3\\lib\\site-packages\\sklearn\\neural_network\\_multilayer_perceptron.py:692: ConvergenceWarning: Stochastic Optimizer: Maximum iterations (200) reached and the optimization hasn't converged yet.\n",
      "  warnings.warn(\n",
      "C:\\Users\\AYT-BRAIN\\anaconda3\\lib\\site-packages\\sklearn\\neural_network\\_multilayer_perceptron.py:692: ConvergenceWarning: Stochastic Optimizer: Maximum iterations (200) reached and the optimization hasn't converged yet.\n",
      "  warnings.warn(\n",
      "C:\\Users\\AYT-BRAIN\\anaconda3\\lib\\site-packages\\sklearn\\neural_network\\_multilayer_perceptron.py:692: ConvergenceWarning: Stochastic Optimizer: Maximum iterations (200) reached and the optimization hasn't converged yet.\n",
      "  warnings.warn(\n",
      "C:\\Users\\AYT-BRAIN\\anaconda3\\lib\\site-packages\\sklearn\\neural_network\\_multilayer_perceptron.py:692: ConvergenceWarning: Stochastic Optimizer: Maximum iterations (200) reached and the optimization hasn't converged yet.\n",
      "  warnings.warn(\n",
      "C:\\Users\\AYT-BRAIN\\anaconda3\\lib\\site-packages\\sklearn\\neural_network\\_multilayer_perceptron.py:692: ConvergenceWarning: Stochastic Optimizer: Maximum iterations (200) reached and the optimization hasn't converged yet.\n",
      "  warnings.warn(\n",
      "C:\\Users\\AYT-BRAIN\\anaconda3\\lib\\site-packages\\sklearn\\neural_network\\_multilayer_perceptron.py:692: ConvergenceWarning: Stochastic Optimizer: Maximum iterations (200) reached and the optimization hasn't converged yet.\n",
      "  warnings.warn(\n",
      "C:\\Users\\AYT-BRAIN\\anaconda3\\lib\\site-packages\\sklearn\\neural_network\\_multilayer_perceptron.py:692: ConvergenceWarning: Stochastic Optimizer: Maximum iterations (200) reached and the optimization hasn't converged yet.\n",
      "  warnings.warn(\n",
      "C:\\Users\\AYT-BRAIN\\anaconda3\\lib\\site-packages\\sklearn\\neural_network\\_multilayer_perceptron.py:692: ConvergenceWarning: Stochastic Optimizer: Maximum iterations (200) reached and the optimization hasn't converged yet.\n",
      "  warnings.warn(\n"
     ]
    }
   ],
   "source": [
    "cv = 10\n",
    "LRCV=[]\n",
    "NNCV=[]\n",
    "RFCV = []\n",
    "\n",
    "for i in range(10):\n",
    "    LRCV.append(-cross_val_score(modelLR, X, Y.ravel(),cv = 10,scoring=\"neg_mean_squared_error\").mean())\n",
    "    NNCV.append(-cross_val_score(modelNN, X, Y.ravel(),cv = 10,scoring=\"neg_mean_squared_error\").mean())\n",
    "    RFCV.append(-cross_val_score(modelRF, X, Y.ravel(),cv = 10,scoring=\"neg_mean_squared_error\").mean())\n",
    "    \n",
    "    \n"
   ]
  },
  {
   "cell_type": "code",
   "execution_count": 60,
   "id": "0187c953",
   "metadata": {},
   "outputs": [
    {
     "data": {
      "text/plain": [
       "<matplotlib.legend.Legend at 0x1fc32d4f940>"
      ]
     },
     "execution_count": 60,
     "metadata": {},
     "output_type": "execute_result"
    },
    {
     "data": {
      "image/png": "[encoded data removed]",
      "text/plain": [
       "<Figure size 432x288 with 1 Axes>"
      ]
     },
     "metadata": {
      "needs_background": "light"
     },
     "output_type": "display_data"
    }
   ],
   "source": [
    "plt.plot(LRCV, '-ro', label = 'LR')\n",
    "plt.plot(NNCV, '-b', label = 'LR')\n",
    "#plt.plot(RFCV, '-k+', label = 'LR')\n",
    "plt.legend(loc=\"best\")"
   ]
  },
  {
   "cell_type": "code",
   "execution_count": null,
   "id": "186a9562",
   "metadata": {},
   "outputs": [],
   "source": []
  }
 ],
 "metadata": {
  "kernelspec": {
   "display_name": "Python 3 (ipykernel)",
   "language": "python",
   "name": "python3"
  },
  "language_info": {
   "codemirror_mode": {
    "name": "ipython",
    "version": 3
   },
   "file_extension": ".py",
   "mimetype": "text/x-python",
   "name": "python",
   "nbconvert_exporter": "python",
   "pygments_lexer": "ipython3",
   "version": "3.9.12"
  }
 },
 "nbformat": 4,
 "nbformat_minor": 5
}
